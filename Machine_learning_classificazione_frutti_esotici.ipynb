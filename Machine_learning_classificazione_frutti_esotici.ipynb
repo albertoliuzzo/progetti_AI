{
  "nbformat": 4,
  "nbformat_minor": 0,
  "metadata": {
    "colab": {
      "provenance": [],
      "authorship_tag": "ABX9TyMPRSrzA30yYlresjyW6r+j",
      "include_colab_link": true
    },
    "kernelspec": {
      "name": "python3",
      "display_name": "Python 3"
    },
    "language_info": {
      "name": "python"
    }
  },
  "cells": [
    {
      "cell_type": "markdown",
      "metadata": {
        "id": "view-in-github",
        "colab_type": "text"
      },
      "source": [
        "<a href=\"https://colab.research.google.com/github/albertoliuzzo/progetti_AI/blob/main/Machine_learning_classificazione_frutti_esotici.ipynb\" target=\"_parent\"><img src=\"https://colab.research.google.com/assets/colab-badge.svg\" alt=\"Open In Colab\"/></a>"
      ]
    },
    {
      "cell_type": "code",
      "execution_count": null,
      "metadata": {
        "id": "Y3TUI5HiMpgH"
      },
      "outputs": [],
      "source": [
        "import pandas as pd\n",
        "import numpy as np\n",
        "import matplotlib.pyplot as plt\n",
        "import seaborn as sns\n",
        "from sklearn.preprocessing import StandardScaler\n",
        "from sklearn.metrics import log_loss\n",
        "from sklearn.model_selection import train_test_split\n",
        "from sklearn.metrics import classification_report\n",
        "from sklearn.metrics import accuracy_score\n",
        "from sklearn.preprocessing import MinMaxScaler\n",
        "from sklearn.neighbors import KNeighborsClassifier\n",
        "from sklearn.metrics import confusion_matrix, ConfusionMatrixDisplay\n",
        "\n",
        "df=pd.read_csv(\"fruits.csv\") #mostro i primi 5 valori del df\n",
        "\n",
        "print(df.shape)\n",
        "print(\"----------------------------\")\n",
        "print(df.count()) #controllo che non ci siano valori mancanti\n",
        "print(\"----------------------------\")\n",
        "print(df[\"Frutto\"].value_counts()) #controllo che le classi siano bilanciate\n",
        "\n",
        "df[\"Frutto\"]=df[\"Frutto\"].map({\"Mela\":1, \"Banana\":2, \"Arancia\":3, \"Uva\":4, \"Kiwi\":5}) #conversione del target (Frutto) in variabile numerica\n",
        "\n",
        "corr_matrix = df.corr() #calcolo e stampo la matrice di correlazione per capire la correlazione tra le variabili stesse e le variabili ed il target\n",
        "plt.figure(figsize=(8,6))\n",
        "sns.heatmap(corr_matrix, annot=True, fmt=\".2f\", cmap=\"coolwarm\", linewidths=0.5)\n",
        "plt.title(\"Matrice di Correlazione tra le Feature\")\n",
        "plt.show()\n",
        "\n",
        "#creo e stampo uno scatter plot colorando di colori diversi le varie classi\n",
        "frutti = [\"Mela\", \"Banana\", \"Arancia\", \"Uva\", \"Kiwi\"]\n",
        "colori = [\"red\", \"blue\", \"orange\", \"purple\", \"green\"]\n",
        "\n",
        "for i, frutto in enumerate(frutti):\n",
        "    idx = np.where(y == i+1)\n",
        "    plt.scatter(df[\"Dolcezza (1-10)\"].iloc[idx], df[\"Lunghezza media (mm)\"].iloc[idx], color=colori[i], label=frutto)\n",
        "\n",
        "plt.xlabel(\"Dolcezza (1-10)\")\n",
        "plt.ylabel(\"Lunghezza media (mm)\")\n",
        "plt.legend()\n",
        "plt.show()\n",
        "\n",
        "X=df.drop([\"Frutto\"], axis=1) #creo set di training e test\n",
        "y=df[\"Frutto\"]\n",
        "X_train, X_test, y_train, y_test = train_test_split(X, y, test_size=0.2, random_state=1)\n",
        "\n",
        "mms = MinMaxScaler() #normalizzo i dati con MinMaxScaler\n",
        "X_train = mms.fit_transform(X_train)\n",
        "X_test = mms.transform(X_test)\n",
        "\n",
        "from sklearn.model_selection import GridSearchCV #ricerco il miglior valore di k facendo una validazione incrociata a 5 fold\n",
        "knn = KNeighborsClassifier()\n",
        "param_grid = {'n_neighbors': np.linspace(1, 100, 100, dtype=int)}\n",
        "grid_search = GridSearchCV(knn, param_grid, cv=5, scoring='accuracy')\n",
        "grid_search.fit(X_train, y_train)\n",
        "print(f\"Miglior valore di K: {grid_search.best_params_['n_neighbors']}\")\n",
        "\n",
        "best_knn = grid_search.best_estimator_ #restituisce il miglior modello (già fittato) trovato con GridSearch\n",
        "y_pred_train = best_knn.predict(X_train) #faccio le predizioni per set di training e test e calcolo le probabilità\n",
        "y_proba_train = best_knn.predict_proba(X_train)\n",
        "y_pred_test = best_knn.predict(X_test)\n",
        "y_proba_test = best_knn.predict_proba(X_test)\n",
        "accuracy_train = accuracy_score(y_train, y_pred_train) #calcolo accuracy e log loss sui set di training e test e li metto a confronto\n",
        "accuracy_test = accuracy_score(y_test, y_pred_test)\n",
        "log_train = log_loss(y_train, y_proba_train)\n",
        "log_test = log_loss(y_test, y_proba_test)\n",
        "print(f\"ACCURACY: TRAIN={accuracy_train:.3f} TEST={accuracy_test:.3f}\")\n",
        "print(f\"LOG LOSS: TRAIN={log_train :.3f} TEST={log_test :.3f}\")\n",
        "\n",
        "print(\"Classification Report (test set):\") #creo il classification report per il test di set\n",
        "print(classification_report(y_test, y_pred_test, target_names=[\"Mela\", \"Banana\", \"Arancia\", \"Uva\", \"Kiwi\"]))\n",
        "\n",
        "cm = confusion_matrix(y_test, y_pred_test) #creo e stampo la matrice di confuzione per sapere quali e quanti errori ha commesso il modello\n",
        "disp = ConfusionMatrixDisplay(confusion_matrix=cm, display_labels=[\"Mela\", \"Banana\", \"Arancia\", \"Uva\", \"Kiwi\"])\n",
        "disp.plot(cmap='Blues')\n",
        "plt.title(\"Matrice di Confusione (Test set)\")\n",
        "plt.show()"
      ]
    },
    {
      "cell_type": "code",
      "source": [],
      "metadata": {
        "id": "N3t790MVawxR"
      },
      "execution_count": null,
      "outputs": []
    }
  ]
}